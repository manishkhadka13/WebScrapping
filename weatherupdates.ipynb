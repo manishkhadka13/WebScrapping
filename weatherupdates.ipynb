{
 "cells": [
  {
   "cell_type": "code",
   "execution_count": 26,
   "metadata": {},
   "outputs": [],
   "source": [
    "from bs4 import BeautifulSoup\n",
    "import requests"
   ]
  },
  {
   "cell_type": "code",
   "execution_count": 27,
   "metadata": {},
   "outputs": [],
   "source": [
    "# Taking input from user\n",
    "city=input(\"Enter the name of city= \")\n",
    "url=\"https://www.google.com/search?q=\"+\"weather\"+city\n",
    "html=requests.get(url).content\n",
    "soup=BeautifulSoup(html,'html.parser')\n",
    "temp = soup.find('div', attrs={'class': 'BNeawe iBp4i AP7Wnd'}).text\n",
    "str = soup.find('div', attrs={'class': 'BNeawe tAd8D AP7Wnd'}).text"
   ]
  },
  {
   "cell_type": "code",
   "execution_count": 28,
   "metadata": {},
   "outputs": [],
   "source": [
    "data = str.split('\\n')\n",
    "time = data[0]\n",
    "sky = data[1]\n",
    " \n",
    "# getting all div tag\n",
    "listdiv = soup.findAll('div', attrs={'class': 'BNeawe s3v9rd AP7Wnd'})\n",
    "strd = listdiv[5].text\n",
    " "
   ]
  },
  {
   "cell_type": "code",
   "execution_count": 29,
   "metadata": {},
   "outputs": [
    {
     "name": "stdout",
     "output_type": "stream",
     "text": [
      "The Temperature is 27°C\n",
      "The Time is बिहिबार २२:५८\n",
      "The sky Description is Haze\n"
     ]
    }
   ],
   "source": [
    "print(\"The Temperature is\",temp)\n",
    "print(\"The Time is\",time)\n",
    "print(\"The sky Description is\",sky)\n"
   ]
  },
  {
   "cell_type": "code",
   "execution_count": null,
   "metadata": {},
   "outputs": [],
   "source": []
  }
 ],
 "metadata": {
  "interpreter": {
   "hash": "916dbcbb3f70747c44a77c7bcd40155683ae19c65e1c03b4aa3499c5328201f1"
  },
  "kernelspec": {
   "display_name": "Python 3.8.10 64-bit",
   "language": "python",
   "name": "python3"
  },
  "language_info": {
   "codemirror_mode": {
    "name": "ipython",
    "version": 3
   },
   "file_extension": ".py",
   "mimetype": "text/x-python",
   "name": "python",
   "nbconvert_exporter": "python",
   "pygments_lexer": "ipython3",
   "version": "3.8.10"
  },
  "orig_nbformat": 4
 },
 "nbformat": 4,
 "nbformat_minor": 2
}
